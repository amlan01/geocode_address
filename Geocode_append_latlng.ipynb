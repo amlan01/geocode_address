{
 "cells": [
  {
   "cell_type": "code",
   "execution_count": 1,
   "metadata": {},
   "outputs": [],
   "source": [
    "import json\n",
    "import requests\n",
    "import csv\n",
    "\n",
    "#google geocoding API\n",
    "key = '&key='\n",
    "#google web end-point for geocoding\n",
    "web = 'https://maps.googleapis.com/maps/api/geocode/json?address='\n",
    "\n",
    "#loading external file\n",
    "with open('mca.json') as jsonfile:\n",
    "    #loading and parsing as json data\n",
    "    mydata = json.load(jsonfile)\n",
    "    \n",
    "    for p in mydata:\n",
    "        c_cin = p['CORPORATE_IDENTIFICATION_NUMBER']\n",
    "        c_name = p['COMPANY_NAME']\n",
    "        c_status = p['COMPANY_STATUS']\n",
    "        c_class = p['COMPANY_CLASS']\n",
    "        c_cat = p['COMPANY_CATEGORY']\n",
    "        c_sub_cat = p['COMPANY_SUB_CATEGORY']\n",
    "        c_doregn = p['DATE_OF_REGISTRATION']\n",
    "        c_cap = p['AUTHORIZED_CAP']\n",
    "        c_pac = p['PRINCIPAL_BUSINESS_ACTIVITY_AS_PER_CIN']\n",
    "        c_email = p['EMAIL_ADDR']\n",
    "        #get address\n",
    "        addr = p['REGISTERED_OFFICE_ADDRESS']\n",
    "        #string concatenate\n",
    "        url = web+addr+key\n",
    "        #get http request/response\n",
    "        r = requests.get(url)\n",
    "        #json parse\n",
    "        j = r.json()\n",
    "        #get latitude and longitude\n",
    "        for x in j[\"results\"]:\n",
    "            #print(x[\"geometry\"][\"location\"][\"lat\"])\n",
    "            lat = x[\"geometry\"][\"location\"][\"lat\"]\n",
    "            lng = x[\"geometry\"][\"location\"][\"lng\"]\n",
    "            #csv columns - data added\n",
    "            csvData = [c_cin,c_name,c_status,c_class,c_cat,c_sub_cat,c_doregn,c_cap,c_pac,c_email,addr,lat,lng]\n",
    "            #writing csv file and appending data rows 'a'\n",
    "            with open('address_geocode.csv', 'a') as csvFile:\n",
    "                writer = csv.writer(csvFile)\n",
    "                writer.writerow(csvData)\n",
    "            csvFile.close()"
   ]
  },
  {
   "cell_type": "code",
   "execution_count": null,
   "metadata": {},
   "outputs": [],
   "source": []
  }
 ],
 "metadata": {
  "kernelspec": {
   "display_name": "Python 2",
   "language": "python",
   "name": "python2"
  },
  "language_info": {
   "codemirror_mode": {
    "name": "ipython",
    "version": 2
   },
   "file_extension": ".py",
   "mimetype": "text/x-python",
   "name": "python",
   "nbconvert_exporter": "python",
   "pygments_lexer": "ipython2",
   "version": "2.7.15"
  }
 },
 "nbformat": 4,
 "nbformat_minor": 2
}
